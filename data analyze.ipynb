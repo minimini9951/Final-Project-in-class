{
 "cells": [
  {
   "cell_type": "code",
   "execution_count": 72,
   "id": "7555b172-9582-480b-a3c3-ef6e1e4c1ac2",
   "metadata": {
    "execution": {
     "iopub.execute_input": "2023-01-04T07:32:04.249086Z",
     "iopub.status.busy": "2023-01-04T07:32:04.249086Z",
     "iopub.status.idle": "2023-01-04T07:32:04.267021Z",
     "shell.execute_reply": "2023-01-04T07:32:04.267021Z",
     "shell.execute_reply.started": "2023-01-04T07:32:04.249086Z"
    },
    "tags": []
   },
   "outputs": [],
   "source": [
    "import pandas as pd\n",
    "import numpy as np\n",
    "import matplotlib.pyplot as plt\n",
    "from datetime import datetime\n",
    "\n",
    "%config Completer.use_jedi = False  # 자동완성 속도 증가"
   ]
  },
  {
   "cell_type": "code",
   "execution_count": 71,
   "id": "620e354b-6fa7-4f44-8395-3f452d74ff6d",
   "metadata": {
    "execution": {
     "iopub.execute_input": "2023-01-04T07:32:00.524125Z",
     "iopub.status.busy": "2023-01-04T07:32:00.524125Z",
     "iopub.status.idle": "2023-01-04T07:32:01.089549Z",
     "shell.execute_reply": "2023-01-04T07:32:01.089549Z",
     "shell.execute_reply.started": "2023-01-04T07:32:00.524125Z"
    },
    "tags": []
   },
   "outputs": [],
   "source": [
    "pc_path = 'C:/k_digital/source/data/cam_data/Data.csv'\n",
    "fanuc_path = 'C:/k_digital/source/data/cam_data/fanuc.csv'\n",
    "# pc = pd.read_csv(pc_path, parse_dates=['time'], index_col='time')\n",
    "# fanuc = pd.read_csv(fanuc_path, parse_dates=['time'], index_col='time')\n",
    "pc = pd.read_csv(pc_path)\n",
    "fanuc = pd.read_csv(fanuc_path)\n",
    "pc = pc.drop('name', axis=1)\n",
    "fanuc = fanuc.drop('name', axis=1)"
   ]
  },
  {
   "cell_type": "code",
   "execution_count": 73,
   "id": "0791b951-dcb2-403e-947e-a2f907c9ec29",
   "metadata": {
    "execution": {
     "iopub.execute_input": "2023-01-04T07:32:06.573947Z",
     "iopub.status.busy": "2023-01-04T07:32:06.573947Z",
     "iopub.status.idle": "2023-01-04T07:32:06.594980Z",
     "shell.execute_reply": "2023-01-04T07:32:06.594980Z",
     "shell.execute_reply.started": "2023-01-04T07:32:06.573947Z"
    },
    "tags": []
   },
   "outputs": [
    {
     "name": "stdout",
     "output_type": "stream",
     "text": [
      "(438758, 16)\n",
      "(148599, 12)\n"
     ]
    }
   ],
   "source": [
    "print(pc.shape)\n",
    "print(fanuc.shape)"
   ]
  },
  {
   "cell_type": "code",
   "execution_count": 74,
   "id": "997f9bcc-9a2e-49a4-832d-ca935e385c2e",
   "metadata": {
    "execution": {
     "iopub.execute_input": "2023-01-04T07:32:07.385474Z",
     "iopub.status.busy": "2023-01-04T07:32:07.385474Z",
     "iopub.status.idle": "2023-01-04T07:32:07.442618Z",
     "shell.execute_reply": "2023-01-04T07:32:07.440790Z",
     "shell.execute_reply.started": "2023-01-04T07:32:07.385474Z"
    },
    "tags": []
   },
   "outputs": [
    {
     "name": "stdout",
     "output_type": "stream",
     "text": [
      "<class 'pandas.core.frame.DataFrame'>\n",
      "RangeIndex: 438758 entries, 0 to 438757\n",
      "Data columns (total 16 columns):\n",
      " #   Column       Non-Null Count   Dtype  \n",
      "---  ------       --------------   -----  \n",
      " 0   time         438758 non-null  int64  \n",
      " 1   Irsm1        438758 non-null  float64\n",
      " 2   Irsm2        438758 non-null  float64\n",
      " 3   Irsm3        438758 non-null  float64\n",
      " 4   currvolt1    438758 non-null  float64\n",
      " 5   currvolt2    438758 non-null  float64\n",
      " 6   currvolt3    438758 non-null  int64  \n",
      " 7   currvolt4    438758 non-null  float64\n",
      " 8   humidity     438758 non-null  float64\n",
      " 9   input1       438758 non-null  int64  \n",
      " 10  input2       438758 non-null  int64  \n",
      " 11  input3       438758 non-null  int64  \n",
      " 12  input4       438758 non-null  int64  \n",
      " 13  temp1        438758 non-null  int64  \n",
      " 14  temp2        438758 non-null  int64  \n",
      " 15  temperature  438758 non-null  float64\n",
      "dtypes: float64(8), int64(8)\n",
      "memory usage: 53.6 MB\n",
      "None\n",
      "<class 'pandas.core.frame.DataFrame'>\n",
      "RangeIndex: 148599 entries, 0 to 148598\n",
      "Data columns (total 12 columns):\n",
      " #   Column                         Non-Null Count   Dtype  \n",
      "---  ------                         --------------   -----  \n",
      " 0   time                           148599 non-null  int64  \n",
      " 1   Automatic Driving              148599 non-null  int64  \n",
      " 2   GW DRESSING INTERVAL           148599 non-null  int64  \n",
      " 3   GW WHEEL REMAIN                148599 non-null  float64\n",
      " 4   Macual Automatic Mode          148599 non-null  int64  \n",
      " 5   Manual Automatic               148599 non-null  int64  \n",
      " 6   PART COUNTER                   148599 non-null  int64  \n",
      " 7   RW DRESSING INTERVAL           148599 non-null  int64  \n",
      " 8   RW WHEEL REMAIN                148599 non-null  float64\n",
      " 9   Status of automatic operation  148599 non-null  int64  \n",
      " 10  Status of axis movement        148599 non-null  int64  \n",
      " 11  TOTAL_COUNTER                  148599 non-null  int64  \n",
      "dtypes: float64(2), int64(10)\n",
      "memory usage: 13.6 MB\n",
      "None\n"
     ]
    }
   ],
   "source": [
    "print(pc.info())\n",
    "print(fanuc.info())"
   ]
  },
  {
   "cell_type": "code",
   "execution_count": 75,
   "id": "52ba5fdc-21ef-4e33-88ed-1320c84f944b",
   "metadata": {
    "execution": {
     "iopub.execute_input": "2023-01-04T07:32:10.339984Z",
     "iopub.status.busy": "2023-01-04T07:32:10.339984Z",
     "iopub.status.idle": "2023-01-04T07:32:10.381358Z",
     "shell.execute_reply": "2023-01-04T07:32:10.381358Z",
     "shell.execute_reply.started": "2023-01-04T07:32:10.339984Z"
    },
    "tags": []
   },
   "outputs": [
    {
     "data": {
      "text/html": [
       "<div>\n",
       "<style scoped>\n",
       "    .dataframe tbody tr th:only-of-type {\n",
       "        vertical-align: middle;\n",
       "    }\n",
       "\n",
       "    .dataframe tbody tr th {\n",
       "        vertical-align: top;\n",
       "    }\n",
       "\n",
       "    .dataframe thead th {\n",
       "        text-align: right;\n",
       "    }\n",
       "</style>\n",
       "<table border=\"1\" class=\"dataframe\">\n",
       "  <thead>\n",
       "    <tr style=\"text-align: right;\">\n",
       "      <th></th>\n",
       "      <th>time</th>\n",
       "      <th>Irsm1</th>\n",
       "      <th>Irsm2</th>\n",
       "      <th>Irsm3</th>\n",
       "      <th>currvolt1</th>\n",
       "      <th>currvolt2</th>\n",
       "      <th>currvolt3</th>\n",
       "      <th>currvolt4</th>\n",
       "      <th>humidity</th>\n",
       "      <th>input1</th>\n",
       "      <th>input2</th>\n",
       "      <th>input3</th>\n",
       "      <th>input4</th>\n",
       "      <th>temp1</th>\n",
       "      <th>temp2</th>\n",
       "      <th>temperature</th>\n",
       "    </tr>\n",
       "  </thead>\n",
       "  <tbody>\n",
       "    <tr>\n",
       "      <th>0</th>\n",
       "      <td>1667547533508363000</td>\n",
       "      <td>0.06</td>\n",
       "      <td>0.09</td>\n",
       "      <td>44.14</td>\n",
       "      <td>0.03</td>\n",
       "      <td>4.21</td>\n",
       "      <td>0</td>\n",
       "      <td>0.33</td>\n",
       "      <td>11.09</td>\n",
       "      <td>0</td>\n",
       "      <td>0</td>\n",
       "      <td>0</td>\n",
       "      <td>0</td>\n",
       "      <td>0</td>\n",
       "      <td>0</td>\n",
       "      <td>35.59</td>\n",
       "    </tr>\n",
       "    <tr>\n",
       "      <th>1</th>\n",
       "      <td>1667547534507849000</td>\n",
       "      <td>0.09</td>\n",
       "      <td>0.07</td>\n",
       "      <td>46.91</td>\n",
       "      <td>0.03</td>\n",
       "      <td>4.22</td>\n",
       "      <td>0</td>\n",
       "      <td>0.35</td>\n",
       "      <td>11.12</td>\n",
       "      <td>0</td>\n",
       "      <td>0</td>\n",
       "      <td>0</td>\n",
       "      <td>0</td>\n",
       "      <td>0</td>\n",
       "      <td>0</td>\n",
       "      <td>35.59</td>\n",
       "    </tr>\n",
       "    <tr>\n",
       "      <th>2</th>\n",
       "      <td>1667547535507067000</td>\n",
       "      <td>0.10</td>\n",
       "      <td>0.09</td>\n",
       "      <td>45.57</td>\n",
       "      <td>0.03</td>\n",
       "      <td>4.21</td>\n",
       "      <td>0</td>\n",
       "      <td>0.33</td>\n",
       "      <td>11.12</td>\n",
       "      <td>0</td>\n",
       "      <td>0</td>\n",
       "      <td>0</td>\n",
       "      <td>0</td>\n",
       "      <td>0</td>\n",
       "      <td>0</td>\n",
       "      <td>35.57</td>\n",
       "    </tr>\n",
       "    <tr>\n",
       "      <th>3</th>\n",
       "      <td>1667547536506512000</td>\n",
       "      <td>0.06</td>\n",
       "      <td>0.12</td>\n",
       "      <td>46.12</td>\n",
       "      <td>0.03</td>\n",
       "      <td>4.21</td>\n",
       "      <td>0</td>\n",
       "      <td>0.33</td>\n",
       "      <td>11.12</td>\n",
       "      <td>0</td>\n",
       "      <td>0</td>\n",
       "      <td>0</td>\n",
       "      <td>0</td>\n",
       "      <td>0</td>\n",
       "      <td>0</td>\n",
       "      <td>35.57</td>\n",
       "    </tr>\n",
       "    <tr>\n",
       "      <th>4</th>\n",
       "      <td>1667547537504720000</td>\n",
       "      <td>0.07</td>\n",
       "      <td>0.08</td>\n",
       "      <td>46.72</td>\n",
       "      <td>0.03</td>\n",
       "      <td>4.21</td>\n",
       "      <td>0</td>\n",
       "      <td>0.33</td>\n",
       "      <td>11.12</td>\n",
       "      <td>0</td>\n",
       "      <td>0</td>\n",
       "      <td>0</td>\n",
       "      <td>0</td>\n",
       "      <td>0</td>\n",
       "      <td>0</td>\n",
       "      <td>35.57</td>\n",
       "    </tr>\n",
       "  </tbody>\n",
       "</table>\n",
       "</div>"
      ],
      "text/plain": [
       "                  time  Irsm1  Irsm2  Irsm3  currvolt1  currvolt2  currvolt3  \\\n",
       "0  1667547533508363000   0.06   0.09  44.14       0.03       4.21          0   \n",
       "1  1667547534507849000   0.09   0.07  46.91       0.03       4.22          0   \n",
       "2  1667547535507067000   0.10   0.09  45.57       0.03       4.21          0   \n",
       "3  1667547536506512000   0.06   0.12  46.12       0.03       4.21          0   \n",
       "4  1667547537504720000   0.07   0.08  46.72       0.03       4.21          0   \n",
       "\n",
       "   currvolt4  humidity  input1  input2  input3  input4  temp1  temp2  \\\n",
       "0       0.33     11.09       0       0       0       0      0      0   \n",
       "1       0.35     11.12       0       0       0       0      0      0   \n",
       "2       0.33     11.12       0       0       0       0      0      0   \n",
       "3       0.33     11.12       0       0       0       0      0      0   \n",
       "4       0.33     11.12       0       0       0       0      0      0   \n",
       "\n",
       "   temperature  \n",
       "0        35.59  \n",
       "1        35.59  \n",
       "2        35.57  \n",
       "3        35.57  \n",
       "4        35.57  "
      ]
     },
     "execution_count": 75,
     "metadata": {},
     "output_type": "execute_result"
    }
   ],
   "source": [
    "pc.head()"
   ]
  },
  {
   "cell_type": "code",
   "execution_count": 76,
   "id": "1492f02b-776a-4914-8ccf-3df716df5ab5",
   "metadata": {
    "execution": {
     "iopub.execute_input": "2023-01-04T07:32:10.655801Z",
     "iopub.status.busy": "2023-01-04T07:32:10.655801Z",
     "iopub.status.idle": "2023-01-04T07:32:10.671822Z",
     "shell.execute_reply": "2023-01-04T07:32:10.671822Z",
     "shell.execute_reply.started": "2023-01-04T07:32:10.655801Z"
    },
    "tags": []
   },
   "outputs": [
    {
     "data": {
      "text/html": [
       "<div>\n",
       "<style scoped>\n",
       "    .dataframe tbody tr th:only-of-type {\n",
       "        vertical-align: middle;\n",
       "    }\n",
       "\n",
       "    .dataframe tbody tr th {\n",
       "        vertical-align: top;\n",
       "    }\n",
       "\n",
       "    .dataframe thead th {\n",
       "        text-align: right;\n",
       "    }\n",
       "</style>\n",
       "<table border=\"1\" class=\"dataframe\">\n",
       "  <thead>\n",
       "    <tr style=\"text-align: right;\">\n",
       "      <th></th>\n",
       "      <th>time</th>\n",
       "      <th>Automatic Driving</th>\n",
       "      <th>GW DRESSING INTERVAL</th>\n",
       "      <th>GW WHEEL REMAIN</th>\n",
       "      <th>Macual Automatic Mode</th>\n",
       "      <th>Manual Automatic</th>\n",
       "      <th>PART COUNTER</th>\n",
       "      <th>RW DRESSING INTERVAL</th>\n",
       "      <th>RW WHEEL REMAIN</th>\n",
       "      <th>Status of automatic operation</th>\n",
       "      <th>Status of axis movement</th>\n",
       "      <th>TOTAL_COUNTER</th>\n",
       "    </tr>\n",
       "  </thead>\n",
       "  <tbody>\n",
       "    <tr>\n",
       "      <th>0</th>\n",
       "      <td>1667547588228899000</td>\n",
       "      <td>0</td>\n",
       "      <td>0</td>\n",
       "      <td>39.6198</td>\n",
       "      <td>0</td>\n",
       "      <td>0</td>\n",
       "      <td>0</td>\n",
       "      <td>630</td>\n",
       "      <td>10.1468</td>\n",
       "      <td>0</td>\n",
       "      <td>0</td>\n",
       "      <td>0</td>\n",
       "    </tr>\n",
       "    <tr>\n",
       "      <th>1</th>\n",
       "      <td>1667547589226802000</td>\n",
       "      <td>0</td>\n",
       "      <td>0</td>\n",
       "      <td>39.6198</td>\n",
       "      <td>0</td>\n",
       "      <td>0</td>\n",
       "      <td>0</td>\n",
       "      <td>630</td>\n",
       "      <td>10.1468</td>\n",
       "      <td>0</td>\n",
       "      <td>0</td>\n",
       "      <td>0</td>\n",
       "    </tr>\n",
       "    <tr>\n",
       "      <th>2</th>\n",
       "      <td>1667547590247180000</td>\n",
       "      <td>0</td>\n",
       "      <td>0</td>\n",
       "      <td>39.6198</td>\n",
       "      <td>0</td>\n",
       "      <td>0</td>\n",
       "      <td>0</td>\n",
       "      <td>630</td>\n",
       "      <td>10.1468</td>\n",
       "      <td>0</td>\n",
       "      <td>0</td>\n",
       "      <td>0</td>\n",
       "    </tr>\n",
       "    <tr>\n",
       "      <th>3</th>\n",
       "      <td>1667547591268892000</td>\n",
       "      <td>0</td>\n",
       "      <td>0</td>\n",
       "      <td>39.6198</td>\n",
       "      <td>0</td>\n",
       "      <td>0</td>\n",
       "      <td>0</td>\n",
       "      <td>630</td>\n",
       "      <td>10.1468</td>\n",
       "      <td>0</td>\n",
       "      <td>0</td>\n",
       "      <td>0</td>\n",
       "    </tr>\n",
       "    <tr>\n",
       "      <th>4</th>\n",
       "      <td>1667547592288630000</td>\n",
       "      <td>0</td>\n",
       "      <td>0</td>\n",
       "      <td>39.6198</td>\n",
       "      <td>0</td>\n",
       "      <td>0</td>\n",
       "      <td>0</td>\n",
       "      <td>630</td>\n",
       "      <td>10.1468</td>\n",
       "      <td>0</td>\n",
       "      <td>0</td>\n",
       "      <td>0</td>\n",
       "    </tr>\n",
       "  </tbody>\n",
       "</table>\n",
       "</div>"
      ],
      "text/plain": [
       "                  time  Automatic Driving  GW DRESSING INTERVAL  \\\n",
       "0  1667547588228899000                  0                     0   \n",
       "1  1667547589226802000                  0                     0   \n",
       "2  1667547590247180000                  0                     0   \n",
       "3  1667547591268892000                  0                     0   \n",
       "4  1667547592288630000                  0                     0   \n",
       "\n",
       "   GW WHEEL REMAIN  Macual Automatic Mode  Manual Automatic  PART COUNTER  \\\n",
       "0          39.6198                      0                 0             0   \n",
       "1          39.6198                      0                 0             0   \n",
       "2          39.6198                      0                 0             0   \n",
       "3          39.6198                      0                 0             0   \n",
       "4          39.6198                      0                 0             0   \n",
       "\n",
       "   RW DRESSING INTERVAL  RW WHEEL REMAIN  Status of automatic operation  \\\n",
       "0                   630          10.1468                              0   \n",
       "1                   630          10.1468                              0   \n",
       "2                   630          10.1468                              0   \n",
       "3                   630          10.1468                              0   \n",
       "4                   630          10.1468                              0   \n",
       "\n",
       "   Status of axis movement  TOTAL_COUNTER  \n",
       "0                        0              0  \n",
       "1                        0              0  \n",
       "2                        0              0  \n",
       "3                        0              0  \n",
       "4                        0              0  "
      ]
     },
     "execution_count": 76,
     "metadata": {},
     "output_type": "execute_result"
    }
   ],
   "source": [
    "fanuc.head()"
   ]
  },
  {
   "cell_type": "code",
   "execution_count": 85,
   "id": "0e76862b-f590-4f83-99de-ff47ec270749",
   "metadata": {
    "execution": {
     "iopub.execute_input": "2023-01-04T07:35:12.707610Z",
     "iopub.status.busy": "2023-01-04T07:35:12.707610Z",
     "iopub.status.idle": "2023-01-04T07:35:12.732030Z",
     "shell.execute_reply": "2023-01-04T07:35:12.732030Z",
     "shell.execute_reply.started": "2023-01-04T07:35:12.707610Z"
    },
    "tags": []
   },
   "outputs": [
    {
     "data": {
      "text/plain": [
       "datetime.datetime(1970, 7, 13, 9, 4, 35, 335084)"
      ]
     },
     "execution_count": 85,
     "metadata": {},
     "output_type": "execute_result"
    }
   ],
   "source": [
    "datetime.fromtimestamp((pc.time/100000000000)[0])"
   ]
  },
  {
   "cell_type": "code",
   "execution_count": 86,
   "id": "443320aa-5123-4229-bf30-c305d20e3674",
   "metadata": {
    "execution": {
     "iopub.execute_input": "2023-01-04T07:35:37.720147Z",
     "iopub.status.busy": "2023-01-04T07:35:37.712108Z",
     "iopub.status.idle": "2023-01-04T07:35:37.736010Z",
     "shell.execute_reply": "2023-01-04T07:35:37.736010Z",
     "shell.execute_reply.started": "2023-01-04T07:35:37.720147Z"
    },
    "tags": []
   },
   "outputs": [
    {
     "data": {
      "text/plain": [
       "datetime.datetime(1970, 7, 13, 9, 4, 35, 345078)"
      ]
     },
     "execution_count": 86,
     "metadata": {},
     "output_type": "execute_result"
    }
   ],
   "source": [
    "datetime.fromtimestamp((pc.time/100000000000)[1])"
   ]
  },
  {
   "cell_type": "code",
   "execution_count": 77,
   "id": "4b617d38-8265-4b73-8e7e-fcde1887c4b8",
   "metadata": {
    "execution": {
     "iopub.execute_input": "2023-01-04T07:32:12.372451Z",
     "iopub.status.busy": "2023-01-04T07:32:12.372451Z",
     "iopub.status.idle": "2023-01-04T07:32:12.397074Z",
     "shell.execute_reply": "2023-01-04T07:32:12.397074Z",
     "shell.execute_reply.started": "2023-01-04T07:32:12.372451Z"
    },
    "tags": []
   },
   "outputs": [],
   "source": [
    "def trans_timestamp(df):\n",
    "    time = []\n",
    "    for i in df.time:\n",
    "        time.append(datetime.fromtimestamp(i))\n",
    "    df.time = time"
   ]
  },
  {
   "cell_type": "code",
   "execution_count": 78,
   "id": "c686d3db-2622-424c-a763-db23675f4371",
   "metadata": {
    "execution": {
     "iopub.execute_input": "2023-01-04T07:32:13.049605Z",
     "iopub.status.busy": "2023-01-04T07:32:13.049605Z",
     "iopub.status.idle": "2023-01-04T07:32:13.092823Z",
     "shell.execute_reply": "2023-01-04T07:32:13.092823Z",
     "shell.execute_reply.started": "2023-01-04T07:32:13.049605Z"
    },
    "tags": []
   },
   "outputs": [
    {
     "ename": "OSError",
     "evalue": "[Errno 22] Invalid argument",
     "output_type": "error",
     "traceback": [
      "\u001b[1;31m---------------------------------------------------------------------------\u001b[0m",
      "\u001b[1;31mOSError\u001b[0m                                   Traceback (most recent call last)",
      "Cell \u001b[1;32mIn[78], line 1\u001b[0m\n\u001b[1;32m----> 1\u001b[0m \u001b[43mtrans_timestamp\u001b[49m\u001b[43m(\u001b[49m\u001b[43mpc\u001b[49m\u001b[43m)\u001b[49m\n",
      "Cell \u001b[1;32mIn[77], line 4\u001b[0m, in \u001b[0;36mtrans_timestamp\u001b[1;34m(df)\u001b[0m\n\u001b[0;32m      2\u001b[0m time \u001b[38;5;241m=\u001b[39m []\n\u001b[0;32m      3\u001b[0m \u001b[38;5;28;01mfor\u001b[39;00m i \u001b[38;5;129;01min\u001b[39;00m df\u001b[38;5;241m.\u001b[39mtime:\n\u001b[1;32m----> 4\u001b[0m     time\u001b[38;5;241m.\u001b[39mappend(\u001b[43mdatetime\u001b[49m\u001b[38;5;241;43m.\u001b[39;49m\u001b[43mfromtimestamp\u001b[49m\u001b[43m(\u001b[49m\u001b[43mi\u001b[49m\u001b[43m)\u001b[49m)\n\u001b[0;32m      5\u001b[0m df\u001b[38;5;241m.\u001b[39mtime \u001b[38;5;241m=\u001b[39m time\n",
      "\u001b[1;31mOSError\u001b[0m: [Errno 22] Invalid argument"
     ]
    }
   ],
   "source": [
    "trans_timestamp(pc)"
   ]
  }
 ],
 "metadata": {
  "kernelspec": {
   "display_name": "Python 3 (ipykernel)",
   "language": "python",
   "name": "python3"
  },
  "language_info": {
   "codemirror_mode": {
    "name": "ipython",
    "version": 3
   },
   "file_extension": ".py",
   "mimetype": "text/x-python",
   "name": "python",
   "nbconvert_exporter": "python",
   "pygments_lexer": "ipython3",
   "version": "3.9.7"
  },
  "widgets": {
   "application/vnd.jupyter.widget-state+json": {
    "state": {},
    "version_major": 2,
    "version_minor": 0
   }
  }
 },
 "nbformat": 4,
 "nbformat_minor": 5
}
