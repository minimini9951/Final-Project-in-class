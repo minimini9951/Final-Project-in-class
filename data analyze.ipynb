{
 "cells": [
  {
   "cell_type": "code",
   "execution_count": 14,
   "id": "7555b172-9582-480b-a3c3-ef6e1e4c1ac2",
   "metadata": {
    "execution": {
     "iopub.execute_input": "2023-01-05T01:10:24.419340Z",
     "iopub.status.busy": "2023-01-05T01:10:24.419340Z",
     "iopub.status.idle": "2023-01-05T01:10:24.441935Z",
     "shell.execute_reply": "2023-01-05T01:10:24.441427Z",
     "shell.execute_reply.started": "2023-01-05T01:10:24.419340Z"
    },
    "tags": []
   },
   "outputs": [],
   "source": [
    "    from datetime import datetime\n",
    "\n",
    "import matplotlib.pyplot as plt\n",
    "import numpy as np\n",
    "import pandas as pd\n",
    "\n",
    "%config Completer.use_jedi = False  # 자동완성 속도 증가"
   ]
  },
  {
   "cell_type": "code",
   "execution_count": 15,
   "id": "620e354b-6fa7-4f44-8395-3f452d74ff6d",
   "metadata": {
    "execution": {
     "iopub.execute_input": "2023-01-05T01:10:25.066529Z",
     "iopub.status.busy": "2023-01-05T01:10:25.066529Z",
     "iopub.status.idle": "2023-01-05T01:10:25.710246Z",
     "shell.execute_reply": "2023-01-05T01:10:25.709219Z",
     "shell.execute_reply.started": "2023-01-05T01:10:25.066529Z"
    },
    "tags": []
   },
   "outputs": [],
   "source": [
    "pc_path = \"C:/k_digital/source/data/cam_data/Data.csv\"\n",
    "fanuc_path = \"C:/k_digital/source/data/cam_data/fanuc.csv\"\n",
    "data_df = pd.read_csv(pc_path)\n",
    "fanuc_df = pd.read_csv(fanuc_path)\n",
    "data_df.drop([\"name\", 'Irsm1', 'Irsm2', 'currvolt1', 'currvolt3', 'input1', 'input2', 'input3', 'input4', 'temp1', 'temp2'], axis=1, inplace=True)\n",
    "fanuc_df.drop([\"name\", 'TOTAL_COUNTER', 'PART COUNTER', 'GW DRESSING INTERVAL', 'Manual Automatic', 'Automatic Driving'], axis=1, inplace=True)"
   ]
  },
  {
   "cell_type": "code",
   "execution_count": 16,
   "id": "2c213fa9",
   "metadata": {},
   "outputs": [],
   "source": [
    "def trans_timestamp(df):\n",
    "    for i in range(len(df.time)):\n",
    "        df.time[i] = datetime.fromtimestamp(round((df.time[i] / 1000000000), 0))\n",
    "    print(df.head())"
   ]
  },
  {
   "cell_type": "code",
   "execution_count": 18,
   "id": "f12992ab",
   "metadata": {},
   "outputs": [
    {
     "name": "stderr",
     "output_type": "stream",
     "text": [
      "C:\\Users\\minim\\AppData\\Local\\Temp\\ipykernel_49204\\1411045310.py:3: SettingWithCopyWarning: \n",
      "A value is trying to be set on a copy of a slice from a DataFrame\n",
      "\n",
      "See the caveats in the documentation: https://pandas.pydata.org/pandas-docs/stable/user_guide/indexing.html#returning-a-view-versus-a-copy\n",
      "  df.time[i] = datetime.fromtimestamp(round((df.time[i] / 1000000000), 0))\n"
     ]
    },
    {
     "name": "stdout",
     "output_type": "stream",
     "text": [
      "                  time  Irsm3  currvolt2  currvolt4  humidity  temperature\n",
      "0  2022-11-04 16:38:54  44.14       4.21       0.33     11.09        35.59\n",
      "1  2022-11-04 16:38:55  46.91       4.22       0.35     11.12        35.59\n",
      "2  2022-11-04 16:38:56  45.57       4.21       0.33     11.12        35.57\n",
      "3  2022-11-04 16:38:57  46.12       4.21       0.33     11.12        35.57\n",
      "4  2022-11-04 16:38:58  46.72       4.21       0.33     11.12        35.57\n"
     ]
    },
    {
     "name": "stderr",
     "output_type": "stream",
     "text": [
      "C:\\Users\\minim\\AppData\\Local\\Temp\\ipykernel_49204\\1411045310.py:3: SettingWithCopyWarning: \n",
      "A value is trying to be set on a copy of a slice from a DataFrame\n",
      "\n",
      "See the caveats in the documentation: https://pandas.pydata.org/pandas-docs/stable/user_guide/indexing.html#returning-a-view-versus-a-copy\n",
      "  df.time[i] = datetime.fromtimestamp(round((df.time[i] / 1000000000), 0))\n"
     ]
    },
    {
     "name": "stdout",
     "output_type": "stream",
     "text": [
      "                  time  GW WHEEL REMAIN  Macual Automatic Mode  \\\n",
      "0  2022-11-04 16:39:48          39.6198                      0   \n",
      "1  2022-11-04 16:39:49          39.6198                      0   \n",
      "2  2022-11-04 16:39:50          39.6198                      0   \n",
      "3  2022-11-04 16:39:51          39.6198                      0   \n",
      "4  2022-11-04 16:39:52          39.6198                      0   \n",
      "\n",
      "   RW DRESSING INTERVAL  RW WHEEL REMAIN  Status of automatic operation  \\\n",
      "0                   630          10.1468                              0   \n",
      "1                   630          10.1468                              0   \n",
      "2                   630          10.1468                              0   \n",
      "3                   630          10.1468                              0   \n",
      "4                   630          10.1468                              0   \n",
      "\n",
      "   Status of axis movement  \n",
      "0                        0  \n",
      "1                        0  \n",
      "2                        0  \n",
      "3                        0  \n",
      "4                        0  \n"
     ]
    }
   ],
   "source": [
    "trans_timestamp(data_df)\n",
    "trans_timestamp(fanuc_df)"
   ]
  },
  {
   "cell_type": "code",
   "execution_count": 19,
   "id": "36530fc6",
   "metadata": {},
   "outputs": [],
   "source": [
    "data_df.to_csv(\"Data.csv\", index=False)\n",
    "fanuc_df.to_csv(\"fanuc.csv\", index=False)"
   ]
  },
  {
   "cell_type": "code",
   "execution_count": 20,
   "id": "23c04004",
   "metadata": {},
   "outputs": [],
   "source": [
    "data_df = pd.read_csv(\"Data.csv\", parse_dates=[\"time\"], index_col=\"time\")\n",
    "fanuc_df = pd.read_csv(\"fanuc.csv\", parse_dates=[\"time\"], index_col=\"time\")"
   ]
  },
  {
   "cell_type": "code",
   "execution_count": 21,
   "id": "f2a4f169",
   "metadata": {},
   "outputs": [
    {
     "data": {
      "text/html": [
       "<div>\n",
       "<style scoped>\n",
       "    .dataframe tbody tr th:only-of-type {\n",
       "        vertical-align: middle;\n",
       "    }\n",
       "\n",
       "    .dataframe tbody tr th {\n",
       "        vertical-align: top;\n",
       "    }\n",
       "\n",
       "    .dataframe thead th {\n",
       "        text-align: right;\n",
       "    }\n",
       "</style>\n",
       "<table border=\"1\" class=\"dataframe\">\n",
       "  <thead>\n",
       "    <tr style=\"text-align: right;\">\n",
       "      <th></th>\n",
       "      <th>Irsm3</th>\n",
       "      <th>currvolt2</th>\n",
       "      <th>currvolt4</th>\n",
       "      <th>humidity</th>\n",
       "      <th>temperature</th>\n",
       "    </tr>\n",
       "    <tr>\n",
       "      <th>time</th>\n",
       "      <th></th>\n",
       "      <th></th>\n",
       "      <th></th>\n",
       "      <th></th>\n",
       "      <th></th>\n",
       "    </tr>\n",
       "  </thead>\n",
       "  <tbody>\n",
       "    <tr>\n",
       "      <th>2022-11-04 16:38:54</th>\n",
       "      <td>44.14</td>\n",
       "      <td>4.21</td>\n",
       "      <td>0.33</td>\n",
       "      <td>11.09</td>\n",
       "      <td>35.59</td>\n",
       "    </tr>\n",
       "    <tr>\n",
       "      <th>2022-11-04 16:38:55</th>\n",
       "      <td>46.91</td>\n",
       "      <td>4.22</td>\n",
       "      <td>0.35</td>\n",
       "      <td>11.12</td>\n",
       "      <td>35.59</td>\n",
       "    </tr>\n",
       "    <tr>\n",
       "      <th>2022-11-04 16:38:56</th>\n",
       "      <td>45.57</td>\n",
       "      <td>4.21</td>\n",
       "      <td>0.33</td>\n",
       "      <td>11.12</td>\n",
       "      <td>35.57</td>\n",
       "    </tr>\n",
       "    <tr>\n",
       "      <th>2022-11-04 16:38:57</th>\n",
       "      <td>46.12</td>\n",
       "      <td>4.21</td>\n",
       "      <td>0.33</td>\n",
       "      <td>11.12</td>\n",
       "      <td>35.57</td>\n",
       "    </tr>\n",
       "    <tr>\n",
       "      <th>2022-11-04 16:38:58</th>\n",
       "      <td>46.72</td>\n",
       "      <td>4.21</td>\n",
       "      <td>0.33</td>\n",
       "      <td>11.12</td>\n",
       "      <td>35.57</td>\n",
       "    </tr>\n",
       "  </tbody>\n",
       "</table>\n",
       "</div>"
      ],
      "text/plain": [
       "                     Irsm3  currvolt2  currvolt4  humidity  temperature\n",
       "time                                                                   \n",
       "2022-11-04 16:38:54  44.14       4.21       0.33     11.09        35.59\n",
       "2022-11-04 16:38:55  46.91       4.22       0.35     11.12        35.59\n",
       "2022-11-04 16:38:56  45.57       4.21       0.33     11.12        35.57\n",
       "2022-11-04 16:38:57  46.12       4.21       0.33     11.12        35.57\n",
       "2022-11-04 16:38:58  46.72       4.21       0.33     11.12        35.57"
      ]
     },
     "execution_count": 21,
     "metadata": {},
     "output_type": "execute_result"
    }
   ],
   "source": [
    "data_df.head()"
   ]
  }
 ],
 "metadata": {
  "kernelspec": {
   "display_name": "Python 3 (ipykernel)",
   "language": "python",
   "name": "python3"
  },
  "language_info": {
   "codemirror_mode": {
    "name": "ipython",
    "version": 3
   },
   "file_extension": ".py",
   "mimetype": "text/x-python",
   "name": "python",
   "nbconvert_exporter": "python",
   "pygments_lexer": "ipython3",
   "version": "3.9.7"
  },
  "vscode": {
   "interpreter": {
    "hash": "e4cce46d6be9934fbd27f9ca0432556941ea5bdf741d4f4d64c6cd7f8dfa8fba"
   }
  },
  "widgets": {
   "application/vnd.jupyter.widget-state+json": {
    "state": {},
    "version_major": 2,
    "version_minor": 0
   }
  }
 },
 "nbformat": 4,
 "nbformat_minor": 5
}
