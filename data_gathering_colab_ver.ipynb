{
  "cells": [
    {
      "cell_type": "code",
      "execution_count": 1,
      "metadata": {
        "colab": {
          "base_uri": "https://localhost:8080/",
          "height": 0
        },
        "id": "c_MR1EKmx4F4",
        "outputId": "eb5bbc04-90c6-4030-8348-a5e46cce951a"
      },
      "outputs": [
        {
          "output_type": "stream",
          "name": "stdout",
          "text": [
            "Mounted at /content/drive\n"
          ]
        }
      ],
      "source": [
        "from google.colab import drive\n",
        "drive.mount('/content/drive')"
      ]
    },
    {
      "cell_type": "code",
      "execution_count": 2,
      "metadata": {
        "id": "yyfGjamgyg4X"
      },
      "outputs": [],
      "source": [
        "# 필요한 라이브러리 불러오기 \n",
        "import numpy as np\n",
        "import pandas as pd\n",
        "import datetime\n",
        "import matplotlib.pyplot as plt"
      ]
    },
    {
      "cell_type": "code",
      "execution_count": 3,
      "metadata": {
        "id": "-grV_Z-IyOqv"
      },
      "outputs": [],
      "source": [
        "fanuc_df = pd.read_csv('/content/drive/MyDrive/fanuc.csv')"
      ]
    },
    {
      "cell_type": "code",
      "execution_count": 4,
      "metadata": {
        "id": "lgRN3XGshwUp"
      },
      "outputs": [],
      "source": [
        "fanuc_df = fanuc_df[['time', 'GW_WHEEL_REMAIN', 'RW_WHEEL_REMAIN']]"
      ]
    },
    {
      "cell_type": "code",
      "source": [
        "fanuc_df.time = pd.to_datetime(fanuc_df.time)"
      ],
      "metadata": {
        "id": "5-ySbynuEb9q"
      },
      "execution_count": 5,
      "outputs": []
    },
    {
      "cell_type": "code",
      "source": [
        "day = 86400\n",
        "week = day * 7"
      ],
      "metadata": {
        "id": "N_EAv5uMYKpu"
      },
      "execution_count": 6,
      "outputs": []
    },
    {
      "cell_type": "code",
      "source": [
        "cut_df = fanuc_df[week:].reset_index(drop=True)"
      ],
      "metadata": {
        "id": "LCsPJizMX7m0"
      },
      "execution_count": 7,
      "outputs": []
    },
    {
      "cell_type": "code",
      "source": [
        "cut_df = cut_df[cut_df.index % 86400 == 0].reset_index(drop=True)"
      ],
      "metadata": {
        "id": "eqPJrp0OfDJN"
      },
      "execution_count": 8,
      "outputs": []
    },
    {
      "cell_type": "code",
      "source": [
        "cut_df.set_index('time', inplace=True)"
      ],
      "metadata": {
        "id": "sAb20oyiSG2U"
      },
      "execution_count": 9,
      "outputs": []
    },
    {
      "cell_type": "code",
      "source": [
        "fanuc_df.set_index('time', inplace=True)"
      ],
      "metadata": {
        "id": "GtnvC6cMU7nM"
      },
      "execution_count": 11,
      "outputs": []
    },
    {
      "cell_type": "code",
      "source": [
        "def caculate_week_gradient(df, sec=week): # t는 이 시점으로 부터 일주일전 까지의 기울기를 구하겠다는 뜻\n",
        "    grad = pd.DataFrame(columns=['time', 'GW_Gradient', 'RW_Gradient'])\n",
        "    count = 0\n",
        "    for i in df.index:\n",
        "        n = 1\n",
        "        gradient_list = []\n",
        "        t1 = fanuc_df.index[fanuc_df.index == i] - datetime.timedelta(seconds=week)\n",
        "        t2 = fanuc_df.index[fanuc_df.index == i]\n",
        "        start = fanuc_df.loc[t1]\n",
        "        end = fanuc_df.loc[t2]\n",
        "        for j in fanuc_df.keys():\n",
        "            gradient = (end[j].values - start[j].values)[0] / 7\n",
        "            if (n == 1) and (gradient > - 0.6):\n",
        "                if count != 0:\n",
        "                    gradient = grad.loc[count-1][n]\n",
        "            gradient_list.append(gradient)\n",
        "            n += 1\n",
        "        grad.loc[count] = [i, gradient_list[0], gradient_list[1]]\n",
        "        count += 1\n",
        "    return grad"
      ],
      "metadata": {
        "id": "rSyxLFN1I0nM"
      },
      "execution_count": 12,
      "outputs": []
    },
    {
      "cell_type": "code",
      "source": [
        "grad = caculate_week_gradient(cut_df)"
      ],
      "metadata": {
        "id": "0k5VBq39TFPG"
      },
      "execution_count": 13,
      "outputs": []
    },
    {
      "cell_type": "code",
      "source": [
        "cut_df = cut_df.reset_index()"
      ],
      "metadata": {
        "id": "Uvp_o7U8hYtb"
      },
      "execution_count": 14,
      "outputs": []
    },
    {
      "cell_type": "code",
      "source": [
        "grad_df = pd.merge(cut_df, grad)"
      ],
      "metadata": {
        "id": "SpMqoMPwhCoB"
      },
      "execution_count": 15,
      "outputs": []
    },
    {
      "cell_type": "code",
      "source": [
        "grad_df.set_index('time', inplace=True)"
      ],
      "metadata": {
        "id": "hlFnQsJurNKM"
      },
      "execution_count": 16,
      "outputs": []
    },
    {
      "cell_type": "code",
      "source": [
        "def caculate_remain_day(df = grad_df):\n",
        "    key = grad_df.keys()\n",
        "    count = 0\n",
        "    grad_df['GW_Remain_Day'] = 0\n",
        "    grad_df['RW_Remain_Day'] = 0\n",
        "    for i in df.index:\n",
        "        for j in range(2):\n",
        "            grad_df[f'{key[j][0:2]}_Remain_Day'][count] = grad_df[key[j]][grad_df.index == i][0] / (-1 * grad_df[key[j+2]][grad_df.index == i][0])\n",
        "        count += 1"
      ],
      "metadata": {
        "id": "B6raKaZxTRRZ"
      },
      "execution_count": 17,
      "outputs": []
    },
    {
      "cell_type": "code",
      "source": [
        "caculate_remain_day(grad_df)"
      ],
      "metadata": {
        "colab": {
          "base_uri": "https://localhost:8080/",
          "height": 0
        },
        "id": "4Td6BCaqvUVm",
        "outputId": "59a1a0e4-1e78-45ac-e354-c003ac94b56d"
      },
      "execution_count": 19,
      "outputs": [
        {
          "output_type": "stream",
          "name": "stderr",
          "text": [
            "<ipython-input-17-a71e37c8fe57>:8: SettingWithCopyWarning: \n",
            "A value is trying to be set on a copy of a slice from a DataFrame\n",
            "\n",
            "See the caveats in the documentation: https://pandas.pydata.org/pandas-docs/stable/user_guide/indexing.html#returning-a-view-versus-a-copy\n",
            "  grad_df[f'{key[j][0:2]}_Remain_Day'][count] = grad_df[key[j]][grad_df.index == i][0] / (-1 * grad_df[key[j+2]][grad_df.index == i][0])\n"
          ]
        }
      ]
    },
    {
      "cell_type": "code",
      "source": [
        "grad_df.reset_index(inplace=True)"
      ],
      "metadata": {
        "id": "mDegqK42y5ny"
      },
      "execution_count": 20,
      "outputs": []
    },
    {
      "cell_type": "code",
      "source": [
        "grad_cut_df = grad_df[['time', 'GW_Remain_Day', 'RW_Remain_Day']]"
      ],
      "metadata": {
        "id": "zz5Ha1Zty_0M"
      },
      "execution_count": 21,
      "outputs": []
    },
    {
      "cell_type": "code",
      "source": [
        "fanuc_df.reset_index(inplace=True)"
      ],
      "metadata": {
        "id": "HQhAm5d6zpIv"
      },
      "execution_count": 22,
      "outputs": []
    },
    {
      "cell_type": "code",
      "source": [
        "tot_df = pd.merge(fanuc_df, grad_cut_df, how='outer')"
      ],
      "metadata": {
        "id": "g96NsbkNzhLE"
      },
      "execution_count": 23,
      "outputs": []
    },
    {
      "cell_type": "code",
      "source": [
        "tot_df.set_index('time', inplace=True)"
      ],
      "metadata": {
        "id": "Adq9eLgT0y5e"
      },
      "execution_count": 24,
      "outputs": []
    },
    {
      "cell_type": "code",
      "source": [
        "fanuc_df['GW_WHEEL_REMAIN'].plot()"
      ],
      "metadata": {
        "colab": {
          "base_uri": "https://localhost:8080/",
          "height": 296
        },
        "id": "I63ASH9HTfRp",
        "outputId": "90ec2dba-53bd-4d2a-b3d5-d3c94a741bc0"
      },
      "execution_count": 25,
      "outputs": [
        {
          "output_type": "execute_result",
          "data": {
            "text/plain": [
              "<matplotlib.axes._subplots.AxesSubplot at 0x7fd1dfecf700>"
            ]
          },
          "metadata": {},
          "execution_count": 25
        },
        {
          "output_type": "display_data",
          "data": {
            "text/plain": [
              "<Figure size 432x288 with 1 Axes>"
            ],
            "image/png": "[encoded data removed]"
          },
          "metadata": {
            "needs_background": "light"
          }
        }
      ]
    },
    {
      "cell_type": "code",
      "source": [
        "tot_df['GW_Remain_Day'].interpolate().plot()"
      ],
      "metadata": {
        "colab": {
          "base_uri": "https://localhost:8080/",
          "height": 332
        },
        "id": "gQQgz1n-VGSq",
        "outputId": "f2440323-d087-45b9-ee42-b15f82be5d7b"
      },
      "execution_count": 26,
      "outputs": [
        {
          "output_type": "execute_result",
          "data": {
            "text/plain": [
              "<matplotlib.axes._subplots.AxesSubplot at 0x7fd1d2787490>"
            ]
          },
          "metadata": {},
          "execution_count": 26
        },
        {
          "output_type": "display_data",
          "data": {
            "text/plain": [
              "<Figure size 432x288 with 1 Axes>"
            ],
            "image/png": "[encoded data removed]"
          },
          "metadata": {
            "needs_background": "light"
          }
        }
      ]
    },
    {
      "cell_type": "code",
      "source": [
        "grad_df.set_index('time')['GW_Gradient'].plot()"
      ],
      "metadata": {
        "colab": {
          "base_uri": "https://localhost:8080/",
          "height": 303
        },
        "id": "fjJ0PjEQZTJt",
        "outputId": "dda5d53f-64e6-4a63-d8b3-4ce65aec9757"
      },
      "execution_count": 27,
      "outputs": [
        {
          "output_type": "execute_result",
          "data": {
            "text/plain": [
              "<matplotlib.axes._subplots.AxesSubplot at 0x7fd1d2798610>"
            ]
          },
          "metadata": {},
          "execution_count": 27
        },
        {
          "output_type": "display_data",
          "data": {
            "text/plain": [
              "<Figure size 432x288 with 1 Axes>"
            ],
            "image/png": "[encoded data removed]"
          },
          "metadata": {
            "needs_background": "light"
          }
        }
      ]
    },
    {
      "cell_type": "code",
      "source": [
        "tot_df['GW_Remain_Day'] = tot_df['GW_Remain_Day'].interpolate()\n",
        "tot_df['RW_Remain_Day'] = tot_df['RW_Remain_Day'].interpolate()"
      ],
      "metadata": {
        "id": "ipdiPvkhqnQl"
      },
      "execution_count": 28,
      "outputs": []
    },
    {
      "cell_type": "code",
      "source": [
        "tot_df.fillna(0, inplace=True)"
      ],
      "metadata": {
        "id": "jwAHb9ipuL8s"
      },
      "execution_count": 137,
      "outputs": []
    },
    {
      "cell_type": "code",
      "source": [
        "tot_df.to_csv('/content/drive/MyDrive/fanuc_preprocess.csv')"
      ],
      "metadata": {
        "id": "wFGMBYD0ljXG"
      },
      "execution_count": 138,
      "outputs": []
    },
    {
      "cell_type": "code",
      "source": [
        "data_df = pd.read_csv('/content/drive/MyDrive/Data.csv')\n",
        "rslt_df = pd.read_csv('/content/drive/MyDrive/RSLT.csv')\n",
        "rslt_bad = pd.read_csv('/content/drive/MyDrive/RSLT_BAD.csv')\n",
        "rslt_stock = pd.read_csv('/content/drive/MyDrive/RSLT_STOCK.csv')"
      ],
      "metadata": {
        "id": "rF0b2hMLsAiG"
      },
      "execution_count": 102,
      "outputs": []
    },
    {
      "cell_type": "code",
      "source": [
        "data_df = data_df.interpolate()\n",
        "data_df.set_index('time', inplace=True)"
      ],
      "metadata": {
        "id": "QkNzE3g8tcMp"
      },
      "execution_count": 103,
      "outputs": []
    },
    {
      "cell_type": "code",
      "source": [
        "rslt_df.dropna(inplace=True)\n",
        "rslt_df['time'] = rslt_df['time'].apply(lambda x: x.replace(',', ''))\n",
        "rslt_df.set_index('time', inplace=True)"
      ],
      "metadata": {
        "id": "RvR86gLAub80"
      },
      "execution_count": 104,
      "outputs": []
    },
    {
      "cell_type": "code",
      "source": [
        "rslt_bad = rslt_bad[:-1]\n",
        "rslt_bad = rslt_bad.fillna(0)\n",
        "rslt_bad.set_index('time', inplace=True)"
      ],
      "metadata": {
        "id": "JGzFwthrvBDY"
      },
      "execution_count": 105,
      "outputs": []
    },
    {
      "cell_type": "code",
      "source": [
        "rslt_stock = rslt_stock.dropna(axis=0)\n",
        "rslt_stock['time'] = rslt_stock['time'].apply(lambda x: x.replace(',', ''))\n",
        "rslt_stock.set_index('time', inplace=True)"
      ],
      "metadata": {
        "colab": {
          "base_uri": "https://localhost:8080/",
          "height": 0
        },
        "id": "DwkCdV5ITlpj",
        "outputId": "568ca4d8-da77-4dc1-f31a-b0bc631af94c"
      },
      "execution_count": 106,
      "outputs": [
        {
          "output_type": "stream",
          "name": "stderr",
          "text": [
            "<ipython-input-106-bd0665f70840>:2: SettingWithCopyWarning: \n",
            "A value is trying to be set on a copy of a slice from a DataFrame.\n",
            "Try using .loc[row_indexer,col_indexer] = value instead\n",
            "\n",
            "See the caveats in the documentation: https://pandas.pydata.org/pandas-docs/stable/user_guide/indexing.html#returning-a-view-versus-a-copy\n",
            "  rslt_stock['time'] = rslt_stock['time'].apply(lambda x: x.replace(',', ''))\n"
          ]
        }
      ]
    },
    {
      "cell_type": "code",
      "source": [
        "data_df.to_csv('/content/drive/MyDrive/data_preprocess.csv')\n",
        "rslt_df.to_csv('/content/drive/MyDrive/rslt_preprocess.csv')\n",
        "rslt_bad.to_csv('/content/drive/MyDrive/rslt_bad_preprocess.csv')\n",
        "rslt_stock.to_csv('/content/drive/MyDrive/rslt_stock_preprocess.csv')"
      ],
      "metadata": {
        "id": "y0BQpxuZUlAo"
      },
      "execution_count": 107,
      "outputs": []
    },
    {
      "cell_type": "code",
      "source": [
        "fanuc_df = pd.read_csv('/content/drive/MyDrive/fanuc.csv')"
      ],
      "metadata": {
        "id": "8xRWOwAjlWjG"
      },
      "execution_count": 108,
      "outputs": []
    },
    {
      "cell_type": "code",
      "source": [
        "fanuc_df.drop(['GW_WHEEL_REMAIN', 'RW_WHEEL_REMAIN'], axis=1, inplace=True)"
      ],
      "metadata": {
        "id": "466PFVahlf8U"
      },
      "execution_count": 111,
      "outputs": []
    },
    {
      "cell_type": "code",
      "source": [
        "fanuc_df['RW_DRESSING_INTERVAL'] = fanuc_df['RW_DRESSING_INTERVAL'].interpolate()"
      ],
      "metadata": {
        "id": "aGukg6AAlsfw"
      },
      "execution_count": 117,
      "outputs": []
    },
    {
      "cell_type": "code",
      "source": [
        "fanuc_dressing = fanuc_df[['time', 'RW_DRESSING_INTERVAL']]"
      ],
      "metadata": {
        "id": "4-vMcbtpmhpE"
      },
      "execution_count": 120,
      "outputs": []
    },
    {
      "cell_type": "code",
      "source": [
        "fanuc_df.drop('RW_DRESSING_INTERVAL', axis=1, inplace=True)"
      ],
      "metadata": {
        "id": "U_jtDas2m1M-"
      },
      "execution_count": 122,
      "outputs": []
    },
    {
      "cell_type": "code",
      "source": [
        "fanuc_df.dropna(inplace=True)"
      ],
      "metadata": {
        "id": "dQnZRYPynAgm"
      },
      "execution_count": 125,
      "outputs": []
    },
    {
      "cell_type": "code",
      "source": [
        "fanuc_df.reset_index(drop=True, inplace=True)"
      ],
      "metadata": {
        "id": "Z9rPJi65nILU"
      },
      "execution_count": 128,
      "outputs": []
    },
    {
      "cell_type": "code",
      "source": [
        "fanuc_dressing.set_index('time', inplace=True)\n",
        "fanuc_df.set_index('time', inplace=True)"
      ],
      "metadata": {
        "colab": {
          "base_uri": "https://localhost:8080/",
          "height": 342
        },
        "id": "LIcKEGrCpL_L",
        "outputId": "05f6263f-7169-4adc-b949-940bf3f8c79b"
      },
      "execution_count": 134,
      "outputs": [
        {
          "output_type": "error",
          "ename": "KeyError",
          "evalue": "ignored",
          "traceback": [
            "\u001b[0;31m---------------------------------------------------------------------------\u001b[0m",
            "\u001b[0;31mKeyError\u001b[0m                                  Traceback (most recent call last)",
            "\u001b[0;32m<ipython-input-134-abb0bb84da69>\u001b[0m in \u001b[0;36m<module>\u001b[0;34m\u001b[0m\n\u001b[0;32m----> 1\u001b[0;31m \u001b[0mfanuc_dressing\u001b[0m\u001b[0;34m.\u001b[0m\u001b[0mset_index\u001b[0m\u001b[0;34m(\u001b[0m\u001b[0;34m'time'\u001b[0m\u001b[0;34m,\u001b[0m \u001b[0minplace\u001b[0m\u001b[0;34m=\u001b[0m\u001b[0;32mTrue\u001b[0m\u001b[0;34m)\u001b[0m\u001b[0;34m\u001b[0m\u001b[0;34m\u001b[0m\u001b[0m\n\u001b[0m\u001b[1;32m      2\u001b[0m \u001b[0mfanuc_df\u001b[0m\u001b[0;34m.\u001b[0m\u001b[0mset_index\u001b[0m\u001b[0;34m(\u001b[0m\u001b[0;34m'time'\u001b[0m\u001b[0;34m,\u001b[0m \u001b[0minplace\u001b[0m\u001b[0;34m=\u001b[0m\u001b[0;32mTrue\u001b[0m\u001b[0;34m)\u001b[0m\u001b[0;34m\u001b[0m\u001b[0;34m\u001b[0m\u001b[0m\n",
            "\u001b[0;32m/usr/local/lib/python3.8/dist-packages/pandas/util/_decorators.py\u001b[0m in \u001b[0;36mwrapper\u001b[0;34m(*args, **kwargs)\u001b[0m\n\u001b[1;32m    309\u001b[0m                     \u001b[0mstacklevel\u001b[0m\u001b[0;34m=\u001b[0m\u001b[0mstacklevel\u001b[0m\u001b[0;34m,\u001b[0m\u001b[0;34m\u001b[0m\u001b[0;34m\u001b[0m\u001b[0m\n\u001b[1;32m    310\u001b[0m                 )\n\u001b[0;32m--> 311\u001b[0;31m             \u001b[0;32mreturn\u001b[0m \u001b[0mfunc\u001b[0m\u001b[0;34m(\u001b[0m\u001b[0;34m*\u001b[0m\u001b[0margs\u001b[0m\u001b[0;34m,\u001b[0m \u001b[0;34m**\u001b[0m\u001b[0mkwargs\u001b[0m\u001b[0;34m)\u001b[0m\u001b[0;34m\u001b[0m\u001b[0;34m\u001b[0m\u001b[0m\n\u001b[0m\u001b[1;32m    312\u001b[0m \u001b[0;34m\u001b[0m\u001b[0m\n\u001b[1;32m    313\u001b[0m         \u001b[0;32mreturn\u001b[0m \u001b[0mwrapper\u001b[0m\u001b[0;34m\u001b[0m\u001b[0;34m\u001b[0m\u001b[0m\n",
            "\u001b[0;32m/usr/local/lib/python3.8/dist-packages/pandas/core/frame.py\u001b[0m in \u001b[0;36mset_index\u001b[0;34m(self, keys, drop, append, inplace, verify_integrity)\u001b[0m\n\u001b[1;32m   5449\u001b[0m \u001b[0;34m\u001b[0m\u001b[0m\n\u001b[1;32m   5450\u001b[0m         \u001b[0;32mif\u001b[0m \u001b[0mmissing\u001b[0m\u001b[0;34m:\u001b[0m\u001b[0;34m\u001b[0m\u001b[0;34m\u001b[0m\u001b[0m\n\u001b[0;32m-> 5451\u001b[0;31m             \u001b[0;32mraise\u001b[0m \u001b[0mKeyError\u001b[0m\u001b[0;34m(\u001b[0m\u001b[0;34mf\"None of {missing} are in the columns\"\u001b[0m\u001b[0;34m)\u001b[0m\u001b[0;34m\u001b[0m\u001b[0;34m\u001b[0m\u001b[0m\n\u001b[0m\u001b[1;32m   5452\u001b[0m \u001b[0;34m\u001b[0m\u001b[0m\n\u001b[1;32m   5453\u001b[0m         \u001b[0;32mif\u001b[0m \u001b[0minplace\u001b[0m\u001b[0;34m:\u001b[0m\u001b[0;34m\u001b[0m\u001b[0;34m\u001b[0m\u001b[0m\n",
            "\u001b[0;31mKeyError\u001b[0m: \"None of ['time'] are in the columns\""
          ]
        }
      ]
    },
    {
      "cell_type": "code",
      "source": [
        "fanuc_dressing.to_csv('/content/drive/MyDrive/fanuc_dressing.csv')\n",
        "fanuc_df.to_csv('/content/drive/MyDrive/fanuc_df.csv')"
      ],
      "metadata": {
        "id": "wPLs4mRjnfTE"
      },
      "execution_count": 133,
      "outputs": []
    }
  ],
  "metadata": {
    "colab": {
      "machine_shape": "hm",
      "provenance": []
    },
    "gpuClass": "premium",
    "kernelspec": {
      "display_name": "base",
      "language": "python",
      "name": "python3"
    },
    "language_info": {
      "codemirror_mode": {
        "name": "ipython",
        "version": 3
      },
      "file_extension": ".py",
      "mimetype": "text/x-python",
      "name": "python",
      "nbconvert_exporter": "python",
      "pygments_lexer": "ipython3",
      "version": "3.9.13"
    },
    "vscode": {
      "interpreter": {
        "hash": "e4cce46d6be9934fbd27f9ca0432556941ea5bdf741d4f4d64c6cd7f8dfa8fba"
      }
    }
  },
  "nbformat": 4,
  "nbformat_minor": 0
}